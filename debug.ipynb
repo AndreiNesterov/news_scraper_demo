{
 "cells": [
  {
   "cell_type": "code",
   "execution_count": 1,
   "id": "de59765b-801b-45c2-a43d-5aa4f36b1941",
   "metadata": {},
   "outputs": [],
   "source": [
    "import requests\n",
    "from bs4 import BeautifulSoup\n",
    "import pandas as pd\n",
    "import datetime"
   ]
  },
  {
   "cell_type": "code",
   "execution_count": 5,
   "id": "3365e2d7-0537-4d66-aa44-f022999139f7",
   "metadata": {},
   "outputs": [],
   "source": [
    "from datetime import datetime"
   ]
  },
  {
   "cell_type": "code",
   "execution_count": 8,
   "id": "09152fcf-4960-4855-b64e-224f82d5e485",
   "metadata": {},
   "outputs": [],
   "source": [
    "from datetime import timedelta"
   ]
  },
  {
   "cell_type": "code",
   "execution_count": 11,
   "id": "e25895d9-7449-45d4-8570-1317db94748f",
   "metadata": {},
   "outputs": [],
   "source": [
    "#### trying If-Modified-Since\n",
    "# date format: If-Modified-Since: <day-name>, <day> <month> <year> <hour>:<minute>:<second> GMT \n",
    "# docs: https://developer.mozilla.org/en-US/docs/Web/HTTP/Reference/Headers/If-Modified-Since#syntax"
   ]
  },
  {
   "cell_type": "code",
   "execution_count": 3,
   "id": "856a789d-463c-4005-89a8-6777bbc45619",
   "metadata": {},
   "outputs": [],
   "source": [
    "url = \"https://text.npr.org/\""
   ]
  },
  {
   "cell_type": "code",
   "execution_count": 6,
   "id": "ba49159a-64a6-4278-974a-55b6ab5f784c",
   "metadata": {},
   "outputs": [],
   "source": [
    "current_datetime = datetime.utcnow()"
   ]
  },
  {
   "cell_type": "code",
   "execution_count": 7,
   "id": "9bc4930b-3a57-46b9-8230-2ba1f0e20c0a",
   "metadata": {},
   "outputs": [
    {
     "data": {
      "text/plain": [
       "datetime.datetime(2025, 9, 29, 11, 59, 5, 963701)"
      ]
     },
     "execution_count": 7,
     "metadata": {},
     "output_type": "execute_result"
    }
   ],
   "source": [
    "current_datetime"
   ]
  },
  {
   "cell_type": "code",
   "execution_count": 45,
   "id": "2517c03e-6bfd-4e9b-873e-717badb20eed",
   "metadata": {},
   "outputs": [],
   "source": [
    "last_updated_datetime = current_datetime - timedelta(minutes=5)"
   ]
  },
  {
   "cell_type": "code",
   "execution_count": 39,
   "id": "03c5c592-a631-4093-b44d-86958c82c5ed",
   "metadata": {},
   "outputs": [
    {
     "data": {
      "text/plain": [
       "datetime.datetime(2025, 9, 29, 11, 49, 5, 963701)"
      ]
     },
     "execution_count": 39,
     "metadata": {},
     "output_type": "execute_result"
    }
   ],
   "source": [
    "last_updated_datetime"
   ]
  },
  {
   "cell_type": "code",
   "execution_count": 40,
   "id": "1e563df2-9e9c-41d1-9d2b-c09cb8b9a13d",
   "metadata": {},
   "outputs": [
    {
     "data": {
      "text/plain": [
       "'Mon, 29 Sep 2025 11:49:05 GMT'"
      ]
     },
     "execution_count": 40,
     "metadata": {},
     "output_type": "execute_result"
    }
   ],
   "source": [
    "# the right format\n",
    "last_updated_datetime.strftime(\"%a, %d %b %Y %H:%M:%S GMT\")"
   ]
  },
  {
   "cell_type": "code",
   "execution_count": 46,
   "id": "765b76d9-9354-4032-b24d-4fb5249b7a3a",
   "metadata": {},
   "outputs": [],
   "source": [
    "last_modified = last_updated_datetime.strftime(\"%a, %d %b %Y %H:%M:%S GMT\")"
   ]
  },
  {
   "cell_type": "code",
   "execution_count": 47,
   "id": "190371fb-f62f-497b-ad4a-44378d50c92b",
   "metadata": {},
   "outputs": [],
   "source": [
    "headers = {\n",
    "    \"If-Modified-Since\": last_modified\n",
    "}"
   ]
  },
  {
   "cell_type": "code",
   "execution_count": 48,
   "id": "a1fe8e61-59cd-4295-896a-64c16b3ae2bf",
   "metadata": {},
   "outputs": [],
   "source": [
    "response = requests.get(url, headers=headers)"
   ]
  },
  {
   "cell_type": "code",
   "execution_count": 51,
   "id": "87a44a83-31a6-4713-a2ca-6f664155e7f6",
   "metadata": {},
   "outputs": [
    {
     "data": {
      "text/plain": [
       "200"
      ]
     },
     "execution_count": 51,
     "metadata": {},
     "output_type": "execute_result"
    }
   ],
   "source": [
    "response.status_code"
   ]
  },
  {
   "cell_type": "code",
   "execution_count": 50,
   "id": "c79c52c9-b15f-4025-8cc3-dedf2b96153b",
   "metadata": {},
   "outputs": [
    {
     "data": {
      "text/plain": [
       "datetime.timedelta"
      ]
     },
     "execution_count": 50,
     "metadata": {},
     "output_type": "execute_result"
    }
   ],
   "source": [
    "timedelta"
   ]
  },
  {
   "cell_type": "code",
   "execution_count": null,
   "id": "9696c185-56eb-44ad-84c9-cacfb3d20bd8",
   "metadata": {},
   "outputs": [],
   "source": []
  }
 ],
 "metadata": {
  "kernelspec": {
   "display_name": "Python 3",
   "language": "python",
   "name": "python3"
  },
  "language_info": {
   "codemirror_mode": {
    "name": "ipython",
    "version": 3
   },
   "file_extension": ".py",
   "mimetype": "text/x-python",
   "name": "python",
   "nbconvert_exporter": "python",
   "pygments_lexer": "ipython3",
   "version": "3.8.5"
  }
 },
 "nbformat": 4,
 "nbformat_minor": 5
}

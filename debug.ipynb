{
 "cells": [
  {
   "cell_type": "code",
   "execution_count": 1,
   "id": "de59765b-801b-45c2-a43d-5aa4f36b1941",
   "metadata": {},
   "outputs": [],
   "source": [
    "import requests\n",
    "from bs4 import BeautifulSoup\n",
    "import pandas as pd\n",
    "import datetime"
   ]
  },
  {
   "cell_type": "code",
   "execution_count": 5,
   "id": "3365e2d7-0537-4d66-aa44-f022999139f7",
   "metadata": {},
   "outputs": [],
   "source": [
    "from datetime import datetime"
   ]
  },
  {
   "cell_type": "code",
   "execution_count": 8,
   "id": "09152fcf-4960-4855-b64e-224f82d5e485",
   "metadata": {},
   "outputs": [],
   "source": [
    "from datetime import timedelta"
   ]
  },
  {
   "cell_type": "code",
   "execution_count": 11,
   "id": "e25895d9-7449-45d4-8570-1317db94748f",
   "metadata": {},
   "outputs": [],
   "source": [
    "#### trying If-Modified-Since\n",
    "# date format: If-Modified-Since: <day-name>, <day> <month> <year> <hour>:<minute>:<second> GMT \n",
    "# docs: https://developer.mozilla.org/en-US/docs/Web/HTTP/Reference/Headers/If-Modified-Since#syntax"
   ]
  },
  {
   "cell_type": "code",
   "execution_count": 3,
   "id": "856a789d-463c-4005-89a8-6777bbc45619",
   "metadata": {},
   "outputs": [],
   "source": [
    "url = \"https://text.npr.org/\""
   ]
  },
  {
   "cell_type": "code",
   "execution_count": 6,
   "id": "ba49159a-64a6-4278-974a-55b6ab5f784c",
   "metadata": {},
   "outputs": [],
   "source": [
    "current_datetime = datetime.utcnow()"
   ]
  },
  {
   "cell_type": "code",
   "execution_count": 7,
   "id": "9bc4930b-3a57-46b9-8230-2ba1f0e20c0a",
   "metadata": {},
   "outputs": [
    {
     "data": {
      "text/plain": [
       "datetime.datetime(2025, 9, 29, 11, 59, 5, 963701)"
      ]
     },
     "execution_count": 7,
     "metadata": {},
     "output_type": "execute_result"
    }
   ],
   "source": [
    "current_datetime"
   ]
  },
  {
   "cell_type": "code",
   "execution_count": 69,
   "id": "2517c03e-6bfd-4e9b-873e-717badb20eed",
   "metadata": {},
   "outputs": [],
   "source": [
    "last_updated_datetime = current_datetime - timedelta(minutes=30)"
   ]
  },
  {
   "cell_type": "code",
   "execution_count": 70,
   "id": "03c5c592-a631-4093-b44d-86958c82c5ed",
   "metadata": {},
   "outputs": [
    {
     "data": {
      "text/plain": [
       "datetime.datetime(2025, 9, 29, 11, 29, 5, 963701)"
      ]
     },
     "execution_count": 70,
     "metadata": {},
     "output_type": "execute_result"
    }
   ],
   "source": [
    "last_updated_datetime"
   ]
  },
  {
   "cell_type": "code",
   "execution_count": 71,
   "id": "1e563df2-9e9c-41d1-9d2b-c09cb8b9a13d",
   "metadata": {},
   "outputs": [
    {
     "data": {
      "text/plain": [
       "'Mon, 29 Sep 2025 11:29:05 GMT'"
      ]
     },
     "execution_count": 71,
     "metadata": {},
     "output_type": "execute_result"
    }
   ],
   "source": [
    "# the right format\n",
    "last_updated_datetime.strftime(\"%a, %d %b %Y %H:%M:%S GMT\")"
   ]
  },
  {
   "cell_type": "code",
   "execution_count": 72,
   "id": "765b76d9-9354-4032-b24d-4fb5249b7a3a",
   "metadata": {},
   "outputs": [],
   "source": [
    "last_modified = last_updated_datetime.strftime(\"%a, %d %b %Y %H:%M:%S GMT\")"
   ]
  },
  {
   "cell_type": "code",
   "execution_count": 73,
   "id": "190371fb-f62f-497b-ad4a-44378d50c92b",
   "metadata": {},
   "outputs": [],
   "source": [
    "headers = {\n",
    "    \"If-Modified-Since\": last_modified\n",
    "}"
   ]
  },
  {
   "cell_type": "code",
   "execution_count": 74,
   "id": "a1fe8e61-59cd-4295-896a-64c16b3ae2bf",
   "metadata": {},
   "outputs": [],
   "source": [
    "response = requests.get(url, headers=headers)"
   ]
  },
  {
   "cell_type": "code",
   "execution_count": 75,
   "id": "87a44a83-31a6-4713-a2ca-6f664155e7f6",
   "metadata": {},
   "outputs": [
    {
     "data": {
      "text/plain": [
       "200"
      ]
     },
     "execution_count": 75,
     "metadata": {},
     "output_type": "execute_result"
    }
   ],
   "source": [
    "response.status_code"
   ]
  },
  {
   "cell_type": "code",
   "execution_count": 66,
   "id": "9696c185-56eb-44ad-84c9-cacfb3d20bd8",
   "metadata": {},
   "outputs": [],
   "source": [
    "# Seems like If-Modified-Since is not reliable"
   ]
  },
  {
   "cell_type": "markdown",
   "id": "c847e39c-430f-423d-a9b5-5c9b14173caa",
   "metadata": {},
   "source": [
    "### parsing the first page"
   ]
  },
  {
   "cell_type": "code",
   "execution_count": 76,
   "id": "362d2b0c-5e38-462d-a842-c7220e0b3fe8",
   "metadata": {},
   "outputs": [],
   "source": [
    "soup = BeautifulSoup(response.text, \"html.parser\")"
   ]
  },
  {
   "cell_type": "code",
   "execution_count": 77,
   "id": "24c78957-cae5-4454-bca1-ad0b5f4759f9",
   "metadata": {},
   "outputs": [
    {
     "data": {
      "text/plain": [
       "<!DOCTYPE html>\n",
       "\n",
       "<html lang=\"en\">\n",
       "<head>\n",
       "<title>NPR : National Public Radio</title>\n",
       "<meta content=\"text/html;charset=utf-8\" http-equiv=\"Content-Type\"/>\n",
       "<meta content=\"width=device-width\" name=\"viewport\"/>\n",
       "<link href=\"data:image/png;base64,iVBORw0KGgoAAAANSUhEUgAAABAAAAAQCAYAAAAf8/9hAAAAAXNSR0IArs4c6QAAAHlJREFUOBFjYBgFFIcA48cYpf/opvAv+YouxODXshZDbFONDSMLSJRv8V245KdYZTD7//8XcDFGRgkwe2O1NVzMv/UomA02AMQCaUQ2CCQG0ohsEEgMphHEBgEmCIWdRNeMTRXYBTBnw2iYQpjTYXx022Hio/RAhwAAjXEfJrIXnj4AAAAASUVORK5CYII=\" id=\"favicon\" rel=\"shortcut icon\" type=\"image/png\"/>\n",
       "<style>\n",
       "        body {\n",
       "    display: block;\n",
       "    padding: 0px 20px;\n",
       "    max-width: 550px;\n",
       "    margin: 0 auto;\n",
       "    font-family: -apple-system, BlinkMacSystemFont, \"Segoe UI\", Roboto, Helvetica, Arial, sans-serif, \"Apple Color Emoji\", \"Segoe UI Emoji\", \"Segoe UI Symbol\";\n",
       "}\n",
       "\n",
       ".full-version-link {\n",
       "    margin-left: 15px;\n",
       "}\n",
       "\n",
       ".slug-line {\n",
       "    font-size: 1.1rem;\n",
       "    margin-bottom: 15px;\n",
       "}\n",
       "\n",
       ".hr-line {\n",
       "    position: relative;\n",
       "    height: 4px;\n",
       "}\n",
       "\n",
       ".hr-line:after {\n",
       "    background: linear-gradient(to right, #e60000 0%, #e60000 33.33%, #000000 33.33%, #000000 66.66%, #3366CC 66.66%);\n",
       "    position: absolute;\n",
       "    content: '';\n",
       "    height: 4px;\n",
       "    right: 0;\n",
       "    left: 0;\n",
       "    top: 0;\n",
       "}\n",
       "\n",
       "hr.gray {\n",
       "    border: .5px solid gray;\n",
       "}\n",
       "\n",
       ".story-title {\n",
       "    line-height: 2rem;\n",
       "    font-size: 1.5rem;\n",
       "    margin: 0;\n",
       "}\n",
       "\n",
       ".topic-heading {\n",
       "    line-height: 2rem;\n",
       "    font-size: 1.5rem;\n",
       "}\n",
       "\n",
       ".topic-container>ul {\n",
       "    padding: 0;\n",
       "    line-height: 1.4rem;\n",
       "}\n",
       "\n",
       ".topic-container li {\n",
       "    display: block;\n",
       "    padding-bottom: 15px;\n",
       "}\n",
       "\n",
       ".topic-container {\n",
       "    margin-top: 20px;\n",
       "}\n",
       "\n",
       ".topic-date {\n",
       "    margin: 20px 0;\n",
       "    font-style: italic;\n",
       "}\n",
       "\n",
       ".paragraphs-container {\n",
       "    line-height: 1.5rem;\n",
       "}\n",
       "\n",
       ".button:link,\n",
       ".button:visited {\n",
       "    background-color: white;\n",
       "    color: black;\n",
       "    border: 2px solid black;\n",
       "    padding: 4px 8px;\n",
       "    text-align: center;\n",
       "    text-decoration: none;\n",
       "    display: inline-block;\n",
       "}\n",
       "\n",
       ".button:hover,\n",
       ".button:active {\n",
       "    background-color: black;\n",
       "    color: white;\n",
       "}\n",
       "\n",
       ".lower-nav-container {\n",
       "    margin-top: 40px;\n",
       "}\n",
       "\n",
       ".lower-nav-container li {\n",
       "    margin-left: 0;\n",
       "    display: inline;\n",
       "    padding-right: 20px;\n",
       "}\n",
       "\n",
       "h6 {\n",
       "  text-transform: uppercase;\n",
       "}\n",
       "\n",
       "    </style>\n",
       "</head>\n",
       "<body>\n",
       "<header>\n",
       "<p>Text-Only Version <a class=\"full-version-link button\" href=\"https://www.npr.org/\">Go To Full Site</a></p>\n",
       "</header>\n",
       "<main>\n",
       "<p>\n",
       "</p>\n",
       "<div class=\"topic-container\">\n",
       "<h1 class=\"topic-heading\">NPR : National Public Radio</h1>\n",
       "<div class=\"hr-line\"></div>\n",
       "<p class=\"topic-date\">Monday, September 29, 2025</p>\n",
       "<ul>\n",
       "<li><a class=\"topic-title\" href=\"/g-s1-90959\">Top congressional leaders head to the White House ahead of a shutdown deadline</a></li>\n",
       "<li><a class=\"topic-title\" href=\"/nx-s1-5555970\">Schools are closed Monday in a Michigan community that experienced a deadly church attack</a></li>\n",
       "<li><a class=\"topic-title\" href=\"/nx-s1-5555345\">Tropical Storm Imelda is expected to batter parts of the southeastern U.S. this week</a></li>\n",
       "<li><a class=\"topic-title\" href=\"/nx-s1-5556772\">Latin superstar Bad Bunny will headline the 2026 Super Bowl halftime show</a></li>\n",
       "<li><a class=\"topic-title\" href=\"/nx-s1-5556033\">A suspect is held after allegedly firing from a boat into a waterfront bar in North Carolina</a></li>\n",
       "<li><a class=\"topic-title\" href=\"/nx-s1-5551290\">Hundreds of Israeli soldiers were badly wounded in Gaza. Here's what saved them</a></li>\n",
       "<li><a class=\"topic-title\" href=\"/nx-s1-5555995\">The Ryder Cup's MC steps down over a foul-mouthed chant aimed at golfer Rory McIlroy</a></li>\n",
       "<li><a class=\"topic-title\" href=\"/1183765334\">Savor your coffee; someone probably lost sleep over it</a></li>\n",
       "<li><a class=\"topic-title\" href=\"/nx-s1-5546611\">Prone to winter depression? Starting light therapy now can help</a></li>\n",
       "<li><a class=\"topic-title\" href=\"/nx-s1-5544386\">Scared of spiders? Some former arachnophobes now are keeping jumping spiders as pets </a></li>\n",
       "<li><a class=\"topic-title\" href=\"/g-s1-90669\">A neglected form of diabetes with unusual symptoms finally gets its own name</a></li>\n",
       "<li><a class=\"topic-title\" href=\"/nx-s1-5534436\">DACA has bipartisan support in Congress. Still, Republicans are following Trump's lead</a></li>\n",
       "<li><a class=\"topic-title\" href=\"/nx-s1-5555467\">'I want his name to be known': The wife of an immigrant injured at the ICE facility shooting speaks out</a></li>\n",
       "<li><a class=\"topic-title\" href=\"/nx-s1-5550915\">Trump administration fires more immigration judges</a></li>\n",
       "<li><a class=\"topic-title\" href=\"/nx-s1-5549411\">Georgia senators demand answers on more than a dozen deaths in immigration detention</a></li>\n",
       "<li><a class=\"topic-title\" href=\"/1171741599\">Watch NPR's news roundup: A church shooting leads to school closures, Trump meets capitol leaders</a></li>\n",
       "<li><a class=\"topic-title\" href=\"/nx-s1-5555462\">Marc Maron, Human Rights Watch and others slam a Saudi comedy festival</a></li>\n",
       "<li><a class=\"topic-title\" href=\"/nx-s1-5556800\">Moldova's pro-EU party wins a clear parliamentary majority, defeating pro-Russian groups</a></li>\n",
       "<li><a class=\"topic-title\" href=\"/1234569831\">Sarah Cahill: Tiny Desk Concert</a></li>\n",
       "<li><a class=\"topic-title\" href=\"/nx-s1-5429668\">With 831 Stories, romance fans get more than a steamy read</a></li>\n",
       "</ul>\n",
       "</div>\n",
       "</main>\n",
       "<div class=\"hr-line\"></div>\n",
       "<nav>\n",
       "<p>Topics</p>\n",
       "<ul>\n",
       "<li><a href=\"/1001\">News</a></li>\n",
       "<li><a href=\"/1008\">Culture</a></li>\n",
       "<li><a href=\"/1039\">Music</a></li>\n",
       "</ul>\n",
       "</nav>\n",
       "<footer>\n",
       "<nav class=\"lower-nav-container\">\n",
       "<li><a href=\"/614470770\">Contact Us</a></li>\n",
       "<li><a href=\"/179876898\">Terms of Use</a></li>\n",
       "<li><a href=\"/179881519\">Permissions</a></li>\n",
       "<li><a href=\"/179878450\">Privacy Policy</a></li>\n",
       "</nav>\n",
       "<p>© NPR</p>\n",
       "</footer>\n",
       "</body>\n",
       "</html>"
      ]
     },
     "execution_count": 77,
     "metadata": {},
     "output_type": "execute_result"
    }
   ],
   "source": [
    "soup"
   ]
  },
  {
   "cell_type": "code",
   "execution_count": 86,
   "id": "67ad2bda-92a5-4e09-a888-20a62bbb43ae",
   "metadata": {},
   "outputs": [],
   "source": [
    "all_urls = []\n",
    "for article_url in soup.find('div',{'class':'topic-container'}).find_all('a',{'class':'topic-title'}):\n",
    "    full_url = url + article_url['href'].lstrip('/')\n",
    "    all_urls.append(full_url)"
   ]
  },
  {
   "cell_type": "markdown",
   "id": "a665e507-f89b-482e-b5b8-2e6637102e25",
   "metadata": {},
   "source": [
    "### parsing individual articles"
   ]
  },
  {
   "cell_type": "code",
   "execution_count": 87,
   "id": "f2dcec62-e89f-4c4c-8d26-5fcec8f251bc",
   "metadata": {},
   "outputs": [
    {
     "data": {
      "text/plain": [
       "'https://text.npr.org/g-s1-90959'"
      ]
     },
     "execution_count": 87,
     "metadata": {},
     "output_type": "execute_result"
    }
   ],
   "source": [
    "all_urls[0]"
   ]
  },
  {
   "cell_type": "code",
   "execution_count": 88,
   "id": "c29d08d3-6190-499d-82de-cb29ad56539a",
   "metadata": {},
   "outputs": [],
   "source": [
    "response_article = requests.get(all_urls[0]) # not using If-Modified-Since here"
   ]
  },
  {
   "cell_type": "code",
   "execution_count": 89,
   "id": "c5238138-fd4b-4235-8027-97660504c7bd",
   "metadata": {},
   "outputs": [
    {
     "data": {
      "text/plain": [
       "True"
      ]
     },
     "execution_count": 89,
     "metadata": {},
     "output_type": "execute_result"
    }
   ],
   "source": [
    "response_article.ok"
   ]
  },
  {
   "cell_type": "code",
   "execution_count": 90,
   "id": "5352537d-59a7-4c04-b0e1-4147af2c5d98",
   "metadata": {},
   "outputs": [],
   "source": [
    "soup_article = BeautifulSoup(response_article.text, \"html.parser\")"
   ]
  },
  {
   "cell_type": "code",
   "execution_count": 92,
   "id": "d7ff0a84-dad4-4285-a556-dd63a730ade3",
   "metadata": {},
   "outputs": [],
   "source": [
    "# heading\n",
    "title = soup_article.find('h1',{'class':'story-title'})"
   ]
  },
  {
   "cell_type": "code",
   "execution_count": 95,
   "id": "205b1d1c-1875-46b5-891c-8bf2c7c4c228",
   "metadata": {},
   "outputs": [
    {
     "data": {
      "text/plain": [
       "'Top congressional leaders head to the White House ahead of shutdown deadline'"
      ]
     },
     "execution_count": 95,
     "metadata": {},
     "output_type": "execute_result"
    }
   ],
   "source": [
    "title.text"
   ]
  },
  {
   "cell_type": "code",
   "execution_count": 98,
   "id": "4b5c1e3d-5945-4978-ab6f-d72d774dafb4",
   "metadata": {},
   "outputs": [],
   "source": [
    "# header\n",
    "header = soup_article.find('div',{'class':'story-head'})"
   ]
  },
  {
   "cell_type": "code",
   "execution_count": 101,
   "id": "2dfb45d1-c80b-47e0-b1f9-d37e0b5dd64c",
   "metadata": {},
   "outputs": [
    {
     "data": {
      "text/plain": [
       "'Top congressional leaders head to the White House ahead of shutdown deadline'"
      ]
     },
     "execution_count": 101,
     "metadata": {},
     "output_type": "execute_result"
    }
   ],
   "source": [
    "# title\n",
    "header.h1.text"
   ]
  },
  {
   "cell_type": "code",
   "execution_count": 108,
   "id": "b11da263-c4e1-4a2f-874f-b69ffcb0f819",
   "metadata": {},
   "outputs": [
    {
     "data": {
      "text/plain": [
       "'Barbara Sprunt'"
      ]
     },
     "execution_count": 108,
     "metadata": {},
     "output_type": "execute_result"
    }
   ],
   "source": [
    "# author\n",
    "header.find_all('p')[0].text.replace('By ','')"
   ]
  },
  {
   "cell_type": "code",
   "execution_count": 112,
   "id": "605e9721-8316-4439-b226-326f9730a0d8",
   "metadata": {},
   "outputs": [],
   "source": [
    "# date\n",
    "raw_date = header.find_all('p')[1].text"
   ]
  },
  {
   "cell_type": "code",
   "execution_count": 110,
   "id": "9bca8986-527f-4ab7-9924-08e6e391fcf7",
   "metadata": {},
   "outputs": [],
   "source": [
    "import re"
   ]
  },
  {
   "cell_type": "code",
   "execution_count": 111,
   "id": "9b7fd9e2-273b-4872-a366-df4b3c889756",
   "metadata": {},
   "outputs": [],
   "source": [
    "date_pattern = r\"\\w* \\d{1,2}, \\d{4}\""
   ]
  },
  {
   "cell_type": "code",
   "execution_count": 113,
   "id": "2481d361-ea48-4d38-98f9-a61990ab18d4",
   "metadata": {},
   "outputs": [],
   "source": [
    "re_date = re.findall(date_pattern, raw_date)"
   ]
  },
  {
   "cell_type": "code",
   "execution_count": 115,
   "id": "ef70b5c0-9219-4e3e-a838-ba8def16f866",
   "metadata": {},
   "outputs": [
    {
     "data": {
      "text/plain": [
       "'September 29, 2025'"
      ]
     },
     "execution_count": 115,
     "metadata": {},
     "output_type": "execute_result"
    }
   ],
   "source": [
    "re_date[0]"
   ]
  },
  {
   "cell_type": "code",
   "execution_count": 116,
   "id": "4e79280e-5382-4055-87e3-b713e453ee3a",
   "metadata": {},
   "outputs": [],
   "source": [
    "# converting"
   ]
  },
  {
   "cell_type": "code",
   "execution_count": 122,
   "id": "c526f884-64e1-42ab-b909-c45b9998f42a",
   "metadata": {},
   "outputs": [],
   "source": [
    "clean_date = datetime.strptime(re_date[0], \"%B %d, %Y\").strftime(\"%Y-%m-%d\")"
   ]
  },
  {
   "cell_type": "code",
   "execution_count": 121,
   "id": "d3498bdc-540f-485c-b0a9-becd0f6b0307",
   "metadata": {},
   "outputs": [
    {
     "data": {
      "text/plain": [
       "'2025-09-29'"
      ]
     },
     "execution_count": 121,
     "metadata": {},
     "output_type": "execute_result"
    }
   ],
   "source": [
    "# required format\n",
    "clean_date.strftime(\"%Y-%m-%d\")"
   ]
  },
  {
   "cell_type": "code",
   "execution_count": 123,
   "id": "3833ae35-392c-411d-b634-4497ad22defa",
   "metadata": {},
   "outputs": [
    {
     "data": {
      "text/plain": [
       "'2025-09-29'"
      ]
     },
     "execution_count": 123,
     "metadata": {},
     "output_type": "execute_result"
    }
   ],
   "source": [
    "clean_date"
   ]
  },
  {
   "cell_type": "code",
   "execution_count": 124,
   "id": "1be0c212-7ef4-43f1-b6f1-ca0dd2929640",
   "metadata": {},
   "outputs": [],
   "source": [
    "def _parse_single_article(article_url:str) -> list:\n",
    "\t'''\n",
    "\tGetting data for a single article: title, author, date\n",
    "\tarticle_url: str; \n",
    "\tReturns a list of str ['title','author','date']\n",
    "\t'''\n",
    "\n",
    "\tarticle_data = []\n",
    "\n",
    "\tdate_pattern = r'\\w* \\d{1,2}, \\d{4}'\n",
    "\n",
    "\tresponse_article = requests.get(article_url) # not using If-Modified-Since here\n",
    "\n",
    "\tif response_article.ok == True:\n",
    "\t\tsoup_article = BeautifulSoup(response_article.text, \"html.parser\")\n",
    "\t\t\n",
    "\t\t# getting header\n",
    "\t\theader = soup_article.find('div',{'class':'story-head'})\n",
    "\t\t\n",
    "\t\t# title\n",
    "\t\ttitle = header.h1.text\n",
    "\t\tarticle_data.append(title)\n",
    "\n",
    "\t\t# author\n",
    "\t\tauthor = header.find_all('p')[0].text.replace('By ','')\n",
    "\t\tarticle_data.append(author)\n",
    "\n",
    "\t\t# date\n",
    "\t\traw_date = header.find_all('p')[1].text\n",
    "\t\tre_date = re.findall(date_pattern, raw_date)[0]\n",
    "\t\t# required date format\n",
    "\t\tdate = datetime.strptime(re_date, \"%B %d, %Y\").strftime(\"%Y-%m-%d\")\n",
    "\t\tarticle_data.append(date)\n",
    "\n",
    "\treturn article_data"
   ]
  },
  {
   "cell_type": "code",
   "execution_count": 127,
   "id": "0d6e4d72-346e-4850-be75-17cf93ce1ca4",
   "metadata": {},
   "outputs": [
    {
     "data": {
      "text/plain": [
       "[\"Hundreds of Israeli soldiers were badly wounded in Gaza. Here's what saved them\",\n",
       " 'Daniel Estrin',\n",
       " '2025-09-29']"
      ]
     },
     "execution_count": 127,
     "metadata": {},
     "output_type": "execute_result"
    }
   ],
   "source": [
    "_parse_single_article(all_urls[5])"
   ]
  },
  {
   "cell_type": "code",
   "execution_count": null,
   "id": "0d19cddd-d745-4bb3-a770-890bc59d57c3",
   "metadata": {},
   "outputs": [],
   "source": [
    "# master function\n",
    "\n",
    "def get_arti"
   ]
  }
 ],
 "metadata": {
  "kernelspec": {
   "display_name": "Python 3",
   "language": "python",
   "name": "python3"
  },
  "language_info": {
   "codemirror_mode": {
    "name": "ipython",
    "version": 3
   },
   "file_extension": ".py",
   "mimetype": "text/x-python",
   "name": "python",
   "nbconvert_exporter": "python",
   "pygments_lexer": "ipython3",
   "version": "3.8.5"
  }
 },
 "nbformat": 4,
 "nbformat_minor": 5
}

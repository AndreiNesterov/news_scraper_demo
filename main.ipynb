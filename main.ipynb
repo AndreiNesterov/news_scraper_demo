{
 "cells": [
  {
   "cell_type": "markdown",
   "id": "08f1fb57-c099-4ba9-afc7-f5024639c0d3",
   "metadata": {},
   "source": [
    "## This script helps you get the latest articles data from https://text.npr.org/"
   ]
  },
  {
   "cell_type": "code",
   "execution_count": null,
   "id": "fee82fe0-44a6-4288-b451-ee921a02637d",
   "metadata": {},
   "outputs": [],
   "source": [
    "import news_scraper"
   ]
  },
  {
   "cell_type": "code",
   "execution_count": null,
   "id": "ba426f31-c815-4ba4-befd-ec15f98bd55e",
   "metadata": {},
   "outputs": [],
   "source": [
    "last_updated = int(input(\"Since when do you need to get updates? Enter number of minutes:\"))"
   ]
  },
  {
   "cell_type": "code",
   "execution_count": null,
   "id": "2a19afc0-ed35-4fd6-99ea-f2bda904ce69",
   "metadata": {},
   "outputs": [],
   "source": [
    "# don't forget to include '/' in the end\n",
    "path_to_save = input(\"Where would you like to save your csv file?\")"
   ]
  },
  {
   "cell_type": "code",
   "execution_count": null,
   "id": "a1c595ad-4d9f-445d-bcac-e4d2aeab153d",
   "metadata": {},
   "outputs": [],
   "source": [
    "news_scraper.parse_articles(last_updated,path_to_save)"
   ]
  },
  {
   "cell_type": "code",
   "execution_count": null,
   "id": "949620f4-0d10-465f-adb0-e6fa125ec71d",
   "metadata": {},
   "outputs": [],
   "source": []
  }
 ],
 "metadata": {
  "kernelspec": {
   "display_name": "Python 3",
   "language": "python",
   "name": "python3"
  },
  "language_info": {
   "codemirror_mode": {
    "name": "ipython",
    "version": 3
   },
   "file_extension": ".py",
   "mimetype": "text/x-python",
   "name": "python",
   "nbconvert_exporter": "python",
   "pygments_lexer": "ipython3",
   "version": "3.8.5"
  }
 },
 "nbformat": 4,
 "nbformat_minor": 5
}
